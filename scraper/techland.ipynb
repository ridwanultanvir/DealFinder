{
 "cells": [
  {
   "cell_type": "code",
   "execution_count": 4,
   "metadata": {},
   "outputs": [
    {
     "name": "stdout",
     "output_type": "stream",
     "text": [
      "Requirement already satisfied: bs4 in c:\\users\\zarif\\appdata\\local\\programs\\python\\python310\\lib\\site-packages (0.0.1)\n",
      "Requirement already satisfied: beautifulsoup4 in c:\\users\\zarif\\appdata\\local\\programs\\python\\python310\\lib\\site-packages (from bs4) (4.10.0)\n",
      "Requirement already satisfied: soupsieve>1.2 in c:\\users\\zarif\\appdata\\local\\programs\\python\\python310\\lib\\site-packages (from beautifulsoup4->bs4) (2.3.1)\n"
     ]
    },
    {
     "name": "stderr",
     "output_type": "stream",
     "text": [
      "WARNING: You are using pip version 21.2.4; however, version 22.0.3 is available.\n",
      "You should consider upgrading via the 'C:\\Users\\zarif\\AppData\\Local\\Programs\\Python\\Python310\\python.exe -m pip install --upgrade pip' command.\n"
     ]
    },
    {
     "name": "stdout",
     "output_type": "stream",
     "text": [
      "Requirement already satisfied: numpy in c:\\users\\zarif\\appdata\\local\\programs\\python\\python310\\lib\\site-packages (1.22.2)\n"
     ]
    },
    {
     "name": "stderr",
     "output_type": "stream",
     "text": [
      "WARNING: You are using pip version 21.2.4; however, version 22.0.3 is available.\n",
      "You should consider upgrading via the 'C:\\Users\\zarif\\AppData\\Local\\Programs\\Python\\Python310\\python.exe -m pip install --upgrade pip' command.\n"
     ]
    },
    {
     "name": "stdout",
     "output_type": "stream",
     "text": [
      "Requirement already satisfied: requests in c:\\users\\zarif\\appdata\\local\\programs\\python\\python310\\lib\\site-packages (2.27.1)\n",
      "Requirement already satisfied: charset-normalizer~=2.0.0 in c:\\users\\zarif\\appdata\\local\\programs\\python\\python310\\lib\\site-packages (from requests) (2.0.12)\n",
      "Requirement already satisfied: idna<4,>=2.5 in c:\\users\\zarif\\appdata\\local\\programs\\python\\python310\\lib\\site-packages (from requests) (3.3)\n",
      "Requirement already satisfied: urllib3<1.27,>=1.21.1 in c:\\users\\zarif\\appdata\\local\\programs\\python\\python310\\lib\\site-packages (from requests) (1.26.8)\n",
      "Requirement already satisfied: certifi>=2017.4.17 in c:\\users\\zarif\\appdata\\local\\programs\\python\\python310\\lib\\site-packages (from requests) (2021.10.8)\n"
     ]
    },
    {
     "name": "stderr",
     "output_type": "stream",
     "text": [
      "WARNING: You are using pip version 21.2.4; however, version 22.0.3 is available.\n",
      "You should consider upgrading via the 'C:\\Users\\zarif\\AppData\\Local\\Programs\\Python\\Python310\\python.exe -m pip install --upgrade pip' command.\n"
     ]
    }
   ],
   "source": [
    "!pip install bs4\n",
    "!pip install numpy\n",
    "!pip install requests"
   ]
  },
  {
   "cell_type": "code",
   "execution_count": 5,
   "metadata": {},
   "outputs": [
    {
     "name": "stderr",
     "output_type": "stream",
     "text": [
      "C:\\Users\\zarif\\AppData\\Local\\Temp\\ipykernel_4392\\3229250348.py:4: DeprecationWarning: `np.unicode` is a deprecated alias for `np.compat.unicode`. To silence this warning, use `np.compat.unicode` by itself. In the likely event your code does not need to work on Python 2 you can use the builtin `str` for which `np.compat.unicode` is itself an alias. Doing this will not modify any behaviour and is safe. If you specifically wanted the numpy scalar type, use `np.str_` here.\n",
      "Deprecated in NumPy 1.20; for more details and guidance: https://numpy.org/devdocs/release/1.20.0-notes.html#deprecations\n",
      "  from numpy import unicode\n"
     ]
    }
   ],
   "source": [
    "import sys\n",
    "\n",
    "from bs4 import BeautifulSoup\n",
    "from numpy import unicode\n",
    "from requests import session\n"
   ]
  },
  {
   "cell_type": "code",
   "execution_count": 6,
   "metadata": {},
   "outputs": [],
   "source": [
    "baseurl = \"https://www.techlandbd.com/\""
   ]
  },
  {
   "cell_type": "code",
   "execution_count": 7,
   "metadata": {},
   "outputs": [],
   "source": [
    "def getSession():\n",
    "    with session() as ses:\n",
    "        r = ses.post(baseurl)\n",
    "        return ses"
   ]
  },
  {
   "cell_type": "code",
   "execution_count": 83,
   "metadata": {},
   "outputs": [],
   "source": [
    "## Product\n",
    "class Product:\n",
    "    def __init__(self,title,url,image_url,regular_price,offer_price,specs):\n",
    "        self.title = title\n",
    "        self.url = url\n",
    "        self.image_url = image_url\n",
    "        self.regular_price = regular_price\n",
    "        self.specs = specs\n",
    "        self.brand = \"\"\n",
    "        self.offer_price = offer_price\n",
    "\n",
    "    def setBrand(self,brand):\n",
    "        self.brand = brand\n",
    "        \n",
    "    def __str__(self):\n",
    "        text = \"Title : \"+self.title+\"\\n\"\n",
    "        text += \"URL : \"+self.url+\"\\n\"\n",
    "        text += \"Image URL : \"+self.image_url+\"\\n\"\n",
    "        text += \"Regular Price : \"+self.regular_price+\"\\n\"\n",
    "        text += \"Offer Price : \"+self.offer_price+\"\\n\"\n",
    "        text += \"Brand : \"+self.brand+\"\\n\"\n",
    "        text += \"Specs : \\n\"\n",
    "        for spec in self.specs:\n",
    "            text += spec+\"\\n\"\n",
    "        text += \"\\n\"\n",
    "        return text"
   ]
  },
  {
   "cell_type": "code",
   "execution_count": 93,
   "metadata": {},
   "outputs": [],
   "source": [
    "def getBrandInfo(products):\n",
    "    for p in products:\n",
    "        r = ses.get(p.url)\n",
    "        if(r.status_code == 200):\n",
    "            soup = BeautifulSoup(r.text, 'html.parser')\n",
    "            brand = soup.find('li',attrs={\"class\" : \"product-manufacturer\"}).find('a').text\n",
    "            print(brand)\n",
    "            p.setBrand(brand)"
   ]
  },
  {
   "cell_type": "code",
   "execution_count": 94,
   "metadata": {},
   "outputs": [],
   "source": [
    "def getAllProducts(ses,category):\n",
    "\n",
    "    products = []\n",
    "\n",
    "    r = ses.get(baseurl + category)\n",
    "\n",
    "    for page in range(1,2):\n",
    "        url = baseurl + category + \"?page=\" + str(page)\n",
    "        r = ses.get(url)\n",
    "\n",
    "        if(r.status_code == 200):\n",
    "            soup = BeautifulSoup(r.text, 'html.parser')\n",
    "        \n",
    "            all_ = soup.find_all('div',class_ ='product-thumb')\n",
    "            # print(all[0])\n",
    "            for item in all_:\n",
    "                temp = item.find('div',{\"class\":\"name\"})\n",
    "                title = temp.find('a').text\n",
    "                url = temp.find('a').get('href')\n",
    "                image_url = item.find('div',{\"class\":\"image\"}).find('img')['data-src']\n",
    "                price_new = item.find('div',class_ ='price').find('span',{\"class\":\"price-new\"})\n",
    "                if price_new is not None:\n",
    "                    offer_price = price_new.text\n",
    "                    regular_price = item.find('div',class_ ='price').find('span',{\"class\":\"price-old\"}).text\n",
    "                else:\n",
    "                    regular_price = item.find('div',class_ ='price').find('span',{\"class\":\"price-normal\"}).text\n",
    "                    offer_price = regular_price\n",
    "                temp_list = item.find('div',class_ ='description').find_all('li')\n",
    "                specs = []\n",
    "                for spec in temp_list:\n",
    "                    specs.append(spec.text)\n",
    "                products.append(Product(title,url,image_url,regular_price,offer_price,specs))\n",
    "\n",
    "    getBrandInfo(products)\n",
    "    return products"
   ]
  },
  {
   "cell_type": "code",
   "execution_count": 95,
   "metadata": {},
   "outputs": [
    {
     "name": "stdout",
     "output_type": "stream",
     "text": [
      "Asus\n",
      "MSI\n",
      "AVITA\n",
      "AVITA\n",
      "HP\n",
      "HP\n",
      "HP\n",
      "Dell\n",
      "Walton\n",
      "HP\n",
      "HP\n",
      "Asus\n",
      "Lenovo\n",
      "Lenovo\n",
      "Lenovo\n",
      "Title : ASUS X515MA 15.6-inch Full HD Display Celeron N4020 4GB Ram 1TB HDD Laptop\n",
      "URL : https://www.techlandbd.com/brand-laptops/asus-x515ma-br062-celeron-n4020-laptop\n",
      "Image URL : https://www.techlandbd.com/image/cache/catalog/Laptop/ASUS/asus-x515ma/asus-x515ma-4-250x250.jpg\n",
      "Regular Price : 40,500৳\n",
      "Offer Price : 40,500৳\n",
      "Brand : \n",
      "Specs : \n",
      "Intel Celeron N4020 Processor\n",
      "4 GB DDR4 RAM |1TB HDD\n",
      "15.6 inches, 1920 x 1080 Display\n",
      "Integrated Intel UHD 605 Graphics\n",
      "\n",
      "\n"
     ]
    }
   ],
   "source": [
    "ses = getSession()\n",
    "products = getAllProducts(ses,\"brand-laptops\")\n",
    "print(products[0])"
   ]
  },
  {
   "cell_type": "code",
   "execution_count": null,
   "metadata": {},
   "outputs": [],
   "source": []
  },
  {
   "cell_type": "code",
   "execution_count": null,
   "metadata": {},
   "outputs": [],
   "source": []
  }
 ],
 "metadata": {
  "interpreter": {
   "hash": "c55751198cc9e601ccad70d6005d6813991fb5d5b6fb5424b318fb1d052f666e"
  },
  "kernelspec": {
   "display_name": "PyCharm (Security)",
   "language": "python",
   "name": "python3"
  },
  "language_info": {
   "codemirror_mode": {
    "name": "ipython",
    "version": 3
   },
   "file_extension": ".py",
   "mimetype": "text/x-python",
   "name": "python",
   "nbconvert_exporter": "python",
   "pygments_lexer": "ipython3",
   "version": "3.10.2"
  },
  "orig_nbformat": 4
 },
 "nbformat": 4,
 "nbformat_minor": 2
}
