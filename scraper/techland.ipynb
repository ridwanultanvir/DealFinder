{
 "cells": [
  {
   "cell_type": "code",
   "execution_count": 1,
   "metadata": {},
   "outputs": [
    {
     "name": "stderr",
     "output_type": "stream",
     "text": [
      "<ipython-input-1-9755917e1298>:4: DeprecationWarning: `np.unicode` is a deprecated alias for `np.compat.unicode`. To silence this warning, use `np.compat.unicode` by itself. In the likely event your code does not need to work on Python 2 you can use the builtin `str` for which `np.compat.unicode` is itself an alias. Doing this will not modify any behaviour and is safe. If you specifically wanted the numpy scalar type, use `np.str_` here.\n",
      "Deprecated in NumPy 1.20; for more details and guidance: https://numpy.org/devdocs/release/1.20.0-notes.html#deprecations\n",
      "  from numpy import unicode\n",
      "D:\\Anaconda3\\lib\\site-packages\\requests\\__init__.py:89: RequestsDependencyWarning: urllib3 (1.26.7) or chardet (3.0.4) doesn't match a supported version!\n",
      "  warnings.warn(\"urllib3 ({}) or chardet ({}) doesn't match a supported \"\n"
     ]
    }
   ],
   "source": [
    "import sys\n",
    "\n",
    "from bs4 import BeautifulSoup\n",
    "from numpy import unicode\n",
    "from requests import session\n"
   ]
  },
  {
   "cell_type": "code",
   "execution_count": 2,
   "metadata": {},
   "outputs": [],
   "source": [
    "baseurl = \"https://www.startech.com.bd/\""
   ]
  },
  {
   "cell_type": "code",
   "execution_count": 6,
   "metadata": {},
   "outputs": [],
   "source": [
    "def getSession():\n",
    "    with session() as ses:\n",
    "        r = ses.post(baseurl)\n",
    "        return ses"
   ]
  },
  {
   "cell_type": "code",
   "execution_count": 83,
   "metadata": {},
   "outputs": [],
   "source": [
    "## Product\n",
    "class Product:\n",
    "    def __init__(self,title,url,image_url,offer_price,specs):\n",
    "        self.title = title\n",
    "        self.url = url\n",
    "        self.image_url = image_url\n",
    "        self.regular_price = 0\n",
    "        self.specs = specs\n",
    "        self.brand = \"\"\n",
    "        self.offer_price = offer_price\n",
    "\n",
    "    def setBrand(self,brand):\n",
    "        self.brand = brand\n",
    "    \n",
    "    def setRegularPrice(self,regular_price):\n",
    "        self.regular_price = regular_price\n",
    "        \n",
    "    def __str__(self):\n",
    "        text = \"Title : \"+self.title+\"\\n\"\n",
    "        text += \"URL : \"+self.url+\"\\n\"\n",
    "        text += \"Image URL : \"+self.image_url+\"\\n\"\n",
    "        text += \"Regular Price : \"+self.regular_price+\"\\n\"\n",
    "        text += \"Offer Price : \"+self.offer_price+\"\\n\"\n",
    "        text += \"Brand : \"+self.brand+\"\\n\"\n",
    "        text += \"Specs : \\n\"\n",
    "        for spec in self.specs:\n",
    "            text += spec+\"\\n\"\n",
    "        text += \"\\n\"\n",
    "        return text"
   ]
  },
  {
   "cell_type": "code",
   "execution_count": 86,
   "metadata": {},
   "outputs": [],
   "source": [
    "def getAllProducts(ses,category):\n",
    "\n",
    "    products = []\n",
    "\n",
    "    r = ses.get(baseurl + category)\n",
    "\n",
    "    for page in range(1,2):\n",
    "        r = ses.get(baseurl + category + \"?page=\"+str(page))\n",
    "\n",
    "        if(r.status_code == 200):\n",
    "            soup = BeautifulSoup(r.text, 'html.parser')\n",
    "        \n",
    "            all_ = soup.find_all('div',class_ ='p-item')\n",
    "\n",
    "            for item in all_:\n",
    "                temp = item.find('h4',class_ ='p-item-name').find('a')\n",
    "                title = temp.contents[0]\n",
    "                url = temp.get('href')\n",
    "                image_url = item.find('div',class_ ='p-item-img').find('a').find('img')['src']\n",
    "                price = item.find('div',class_ ='p-item-price').find('span').contents[0]\n",
    "                temp_list = item.find('div',class_ ='short-description').find('ul').find_all('li')\n",
    "\n",
    "                specs = []\n",
    "                for spec in temp_list:\n",
    "                    specs.append(spec.text)\n",
    "\n",
    "                products.append(Product(title,url,image_url,price,specs))\n",
    "    return products"
   ]
  },
  {
   "cell_type": "code",
   "execution_count": 87,
   "metadata": {},
   "outputs": [
    {
     "ename": "NameError",
     "evalue": "name 'specs' is not defined",
     "output_type": "error",
     "traceback": [
      "\u001b[1;31m---------------------------------------------------------------------------\u001b[0m",
      "\u001b[1;31mNameError\u001b[0m                                 Traceback (most recent call last)",
      "\u001b[1;32m<ipython-input-87-14e9a6e7fa96>\u001b[0m in \u001b[0;36m<module>\u001b[1;34m\u001b[0m\n\u001b[0;32m      1\u001b[0m \u001b[0mses\u001b[0m \u001b[1;33m=\u001b[0m \u001b[0mgetSession\u001b[0m\u001b[1;33m(\u001b[0m\u001b[1;33m)\u001b[0m\u001b[1;33m\u001b[0m\u001b[1;33m\u001b[0m\u001b[0m\n\u001b[1;32m----> 2\u001b[1;33m \u001b[0mgetLaptops\u001b[0m\u001b[1;33m(\u001b[0m\u001b[0mses\u001b[0m\u001b[1;33m)\u001b[0m\u001b[1;33m\u001b[0m\u001b[1;33m\u001b[0m\u001b[0m\n\u001b[0m",
      "\u001b[1;32m<ipython-input-86-0965f3531d1e>\u001b[0m in \u001b[0;36mgetLaptops\u001b[1;34m(ses)\u001b[0m\n\u001b[0;32m     32\u001b[0m             \u001b[0mlaptops\u001b[0m\u001b[1;33m.\u001b[0m\u001b[0mappend\u001b[0m\u001b[1;33m(\u001b[0m\u001b[0mLaptop\u001b[0m\u001b[1;33m(\u001b[0m\u001b[0mtitle\u001b[0m\u001b[1;33m,\u001b[0m\u001b[0murl\u001b[0m\u001b[1;33m,\u001b[0m\u001b[0mimage_url\u001b[0m\u001b[1;33m,\u001b[0m\u001b[0mprice\u001b[0m\u001b[1;33m,\u001b[0m\u001b[0mspecs\u001b[0m\u001b[1;33m)\u001b[0m\u001b[1;33m)\u001b[0m\u001b[1;33m\u001b[0m\u001b[1;33m\u001b[0m\u001b[0m\n\u001b[0;32m     33\u001b[0m \u001b[1;33m\u001b[0m\u001b[0m\n\u001b[1;32m---> 34\u001b[1;33m         \u001b[0mprint\u001b[0m\u001b[1;33m(\u001b[0m\u001b[0mlaptops\u001b[0m\u001b[1;33m[\u001b[0m\u001b[1;36m0\u001b[0m\u001b[1;33m]\u001b[0m\u001b[1;33m)\u001b[0m\u001b[1;33m\u001b[0m\u001b[1;33m\u001b[0m\u001b[0m\n\u001b[0m\u001b[0;32m     35\u001b[0m             \u001b[1;31m# break\u001b[0m\u001b[1;33m\u001b[0m\u001b[1;33m\u001b[0m\u001b[1;33m\u001b[0m\u001b[0m\n",
      "\u001b[1;32m<ipython-input-83-05db364d696b>\u001b[0m in \u001b[0;36m__str__\u001b[1;34m(self)\u001b[0m\n\u001b[0;32m     14\u001b[0m         \u001b[0mtext\u001b[0m \u001b[1;33m+=\u001b[0m \u001b[1;34m\"Price : \"\u001b[0m\u001b[1;33m+\u001b[0m\u001b[0mself\u001b[0m\u001b[1;33m.\u001b[0m\u001b[0mimage_url\u001b[0m\u001b[1;33m+\u001b[0m\u001b[1;34m\"\\n\"\u001b[0m\u001b[1;33m\u001b[0m\u001b[1;33m\u001b[0m\u001b[0m\n\u001b[0;32m     15\u001b[0m         \u001b[0mtext\u001b[0m \u001b[1;33m+=\u001b[0m \u001b[1;34m\"Specs : \"\u001b[0m\u001b[1;33m\u001b[0m\u001b[1;33m\u001b[0m\u001b[0m\n\u001b[1;32m---> 16\u001b[1;33m         \u001b[1;32mfor\u001b[0m \u001b[0mspec\u001b[0m \u001b[1;32min\u001b[0m \u001b[0mspecs\u001b[0m\u001b[1;33m:\u001b[0m\u001b[1;33m\u001b[0m\u001b[1;33m\u001b[0m\u001b[0m\n\u001b[0m\u001b[0;32m     17\u001b[0m             \u001b[0mtext\u001b[0m \u001b[1;33m+=\u001b[0m \u001b[0mself\u001b[0m\u001b[1;33m.\u001b[0m\u001b[0mspecs\u001b[0m\u001b[1;33m+\u001b[0m\u001b[1;34m\",\"\u001b[0m\u001b[1;33m\u001b[0m\u001b[1;33m\u001b[0m\u001b[0m\n\u001b[0;32m     18\u001b[0m         \u001b[0mtext\u001b[0m \u001b[1;33m+=\u001b[0m \u001b[1;34m\"\\n\"\u001b[0m\u001b[1;33m\u001b[0m\u001b[1;33m\u001b[0m\u001b[0m\n",
      "\u001b[1;31mNameError\u001b[0m: name 'specs' is not defined"
     ]
    }
   ],
   "source": [
    "ses = getSession()\n",
    "getLaptops(ses,\"laptop-all-laptop\")"
   ]
  },
  {
   "cell_type": "code",
   "execution_count": null,
   "metadata": {},
   "outputs": [],
   "source": []
  }
 ],
 "metadata": {
  "kernelspec": {
   "display_name": "PyCharm (Security)",
   "language": "python",
   "name": "pycharm-125e5059"
  },
  "language_info": {
   "codemirror_mode": {
    "name": "ipython",
    "version": 3
   },
   "file_extension": ".py",
   "mimetype": "text/x-python",
   "name": "python",
   "nbconvert_exporter": "python",
   "pygments_lexer": "ipython3",
   "version": "3.8.3"
  },
  "orig_nbformat": 4
 },
 "nbformat": 4,
 "nbformat_minor": 2
}
