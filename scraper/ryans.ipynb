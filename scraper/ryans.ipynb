{
 "cells": [
  {
   "cell_type": "code",
   "execution_count": 6,
   "metadata": {},
   "outputs": [
    {
     "name": "stdout",
     "output_type": "stream",
     "text": [
      "Requirement already satisfied: bs4 in c:\\users\\zarif\\appdata\\local\\programs\\python\\python310\\lib\\site-packages (0.0.1)\n",
      "Requirement already satisfied: beautifulsoup4 in c:\\users\\zarif\\appdata\\local\\programs\\python\\python310\\lib\\site-packages (from bs4) (4.10.0)\n",
      "Requirement already satisfied: soupsieve>1.2 in c:\\users\\zarif\\appdata\\local\\programs\\python\\python310\\lib\\site-packages (from beautifulsoup4->bs4) (2.3.1)\n"
     ]
    },
    {
     "name": "stderr",
     "output_type": "stream",
     "text": [
      "WARNING: You are using pip version 21.2.4; however, version 22.0.3 is available.\n",
      "You should consider upgrading via the 'C:\\Users\\zarif\\AppData\\Local\\Programs\\Python\\Python310\\python.exe -m pip install --upgrade pip' command.\n"
     ]
    },
    {
     "name": "stdout",
     "output_type": "stream",
     "text": [
      "Requirement already satisfied: numpy in c:\\users\\zarif\\appdata\\local\\programs\\python\\python310\\lib\\site-packages (1.22.2)\n"
     ]
    },
    {
     "name": "stderr",
     "output_type": "stream",
     "text": [
      "WARNING: You are using pip version 21.2.4; however, version 22.0.3 is available.\n",
      "You should consider upgrading via the 'C:\\Users\\zarif\\AppData\\Local\\Programs\\Python\\Python310\\python.exe -m pip install --upgrade pip' command.\n"
     ]
    },
    {
     "name": "stdout",
     "output_type": "stream",
     "text": [
      "Collecting requests\n",
      "  Downloading requests-2.27.1-py2.py3-none-any.whl (63 kB)\n",
      "Collecting urllib3<1.27,>=1.21.1\n",
      "  Downloading urllib3-1.26.8-py2.py3-none-any.whl (138 kB)\n",
      "Collecting idna<4,>=2.5\n",
      "  Downloading idna-3.3-py3-none-any.whl (61 kB)\n",
      "Collecting charset-normalizer~=2.0.0\n",
      "  Downloading charset_normalizer-2.0.12-py3-none-any.whl (39 kB)\n",
      "Collecting certifi>=2017.4.17\n",
      "  Downloading certifi-2021.10.8-py2.py3-none-any.whl (149 kB)\n",
      "Installing collected packages: urllib3, idna, charset-normalizer, certifi, requests\n",
      "Successfully installed certifi-2021.10.8 charset-normalizer-2.0.12 idna-3.3 requests-2.27.1 urllib3-1.26.8\n"
     ]
    },
    {
     "name": "stderr",
     "output_type": "stream",
     "text": [
      "WARNING: You are using pip version 21.2.4; however, version 22.0.3 is available.\n",
      "You should consider upgrading via the 'C:\\Users\\zarif\\AppData\\Local\\Programs\\Python\\Python310\\python.exe -m pip install --upgrade pip' command.\n"
     ]
    }
   ],
   "source": [
    "!pip install bs4\n",
    "!pip install numpy\n",
    "!pip install requests"
   ]
  },
  {
   "cell_type": "code",
   "execution_count": 2,
   "metadata": {},
   "outputs": [
    {
     "name": "stderr",
     "output_type": "stream",
     "text": [
      "C:\\Users\\zarif\\AppData\\Local\\Temp\\ipykernel_2012\\3229250348.py:4: DeprecationWarning: `np.unicode` is a deprecated alias for `np.compat.unicode`. To silence this warning, use `np.compat.unicode` by itself. In the likely event your code does not need to work on Python 2 you can use the builtin `str` for which `np.compat.unicode` is itself an alias. Doing this will not modify any behaviour and is safe. If you specifically wanted the numpy scalar type, use `np.str_` here.\n",
      "Deprecated in NumPy 1.20; for more details and guidance: https://numpy.org/devdocs/release/1.20.0-notes.html#deprecations\n",
      "  from numpy import unicode\n"
     ]
    }
   ],
   "source": [
    "import sys\n",
    "\n",
    "from bs4 import BeautifulSoup\n",
    "from numpy import unicode\n",
    "from requests import session\n"
   ]
  },
  {
   "cell_type": "code",
   "execution_count": 3,
   "metadata": {},
   "outputs": [],
   "source": [
    "baseurl = \"https://www.ryanscomputers.com/category/\""
   ]
  },
  {
   "cell_type": "code",
   "execution_count": 4,
   "metadata": {},
   "outputs": [],
   "source": [
    "def getSession():\n",
    "    with session() as ses:\n",
    "        r = ses.post(baseurl)\n",
    "        return ses"
   ]
  },
  {
   "cell_type": "code",
   "execution_count": 5,
   "metadata": {},
   "outputs": [],
   "source": [
    "## Product\n",
    "class Product:\n",
    "    def __init__(self,title,url,image_url,offer_price,specs):\n",
    "        self.title = title\n",
    "        self.url = url\n",
    "        self.image_url = image_url\n",
    "        self.regular_price = 0\n",
    "        self.specs = specs\n",
    "        self.brand = \"\"\n",
    "        self.offer_price = offer_price\n",
    "\n",
    "    def setBrand(self,brand):\n",
    "        self.brand = brand\n",
    "    \n",
    "    def setRegularPrice(self,regular_price):\n",
    "        self.regular_price = regular_price\n",
    "        \n",
    "    def __str__(self):\n",
    "        text = \"Title : \"+self.title+\"\\n\"\n",
    "        text += \"URL : \"+self.url+\"\\n\"\n",
    "        text += \"Image URL : \"+self.image_url+\"\\n\"\n",
    "        text += \"Regular Price : \"+self.regular_price+\"\\n\"\n",
    "        text += \"Offer Price : \"+self.offer_price+\"\\n\"\n",
    "        text += \"Brand : \"+self.brand+\"\\n\"\n",
    "        text += \"Specs : \\n\"\n",
    "        for spec in self.specs:\n",
    "            text += spec+\"\\n\"\n",
    "        text += \"\\n\"\n",
    "        return text"
   ]
  },
  {
   "cell_type": "code",
   "execution_count": 62,
   "metadata": {},
   "outputs": [],
   "source": [
    "from bs4 import BeautifulSoup, NavigableString, Tag"
   ]
  },
  {
   "cell_type": "code",
   "execution_count": 85,
   "metadata": {},
   "outputs": [],
   "source": [
    "def getAllProducts(ses,category):\n",
    "\n",
    "    products = []\n",
    "\n",
    "    r = ses.get(baseurl + category)\n",
    "\n",
    "    for page in range(1,2):\n",
    "        url = baseurl + category + \"?page=\" + str(page)\n",
    "        r = ses.get(url)\n",
    "\n",
    "        if(r.status_code == 200):\n",
    "            soup = BeautifulSoup(r.text, 'html.parser')\n",
    "        \n",
    "            all_ = soup.find_all('div',class_ ='product-content-info')\n",
    "            # print(all)\n",
    "            for item in all_[0]:\n",
    "                temp_item = []\n",
    "                # for x in item:\n",
    "                #     if isinstance(x, NavigableString):\n",
    "                #         # print(x)\n",
    "                #         # temp_item.append(x)\n",
    "                #         continue\n",
    "                #     if isinstance(x, Tag):\n",
    "                #         # continue\n",
    "                #         # temp_item.append(x)\n",
    "                #         print(x)\n",
    "                # print(temp_item)\n",
    "                # item = temp_item\n",
    "                # print(item)\n",
    "                # print(type(item))\n",
    "                for j in item.find_all('a'):\n",
    "                    try:\n",
    "                        print(j)\n",
    "                    except NavigableString: \n",
    "                        pass\n",
    "                # temp = item.find('a',{\"class\":\"product-title-grid\"})\n",
    "                # print(temp)\n",
    "                # title = temp.contents[0]\n",
    "                # url = temp.get('href')\n",
    "                # image_url = item.find('div',class_ ='p-item-img').find('a').find('img')['src']\n",
    "                # price = item.find('div',class_ ='p-item-price').find('span').contents[0]\n",
    "                # temp_list = item.find('div',class_ ='short-description').find('ul').find_all('li')\n",
    "\n",
    "                # specs = []\n",
    "                # for spec in temp_list:\n",
    "                #     specs.append(spec.text)\n",
    "\n",
    "                # products.append(Product(title,url,image_url,price,specs))\n",
    "    return products"
   ]
  },
  {
   "cell_type": "code",
   "execution_count": 86,
   "metadata": {},
   "outputs": [
    {
     "ename": "AttributeError",
     "evalue": "'NavigableString' object has no attribute 'find_all'",
     "output_type": "error",
     "traceback": [
      "\u001b[1;31m---------------------------------------------------------------------------\u001b[0m",
      "\u001b[1;31mAttributeError\u001b[0m                            Traceback (most recent call last)",
      "\u001b[1;32md:\\MyGitHub\\DealFinder\\scraper\\ryans.ipynb Cell 8'\u001b[0m in \u001b[0;36m<module>\u001b[1;34m\u001b[0m\n\u001b[0;32m      <a href='vscode-notebook-cell:/d%3A/MyGitHub/DealFinder/scraper/ryans.ipynb#ch0000007?line=0'>1</a>\u001b[0m ses \u001b[39m=\u001b[39m getSession()\n\u001b[1;32m----> <a href='vscode-notebook-cell:/d%3A/MyGitHub/DealFinder/scraper/ryans.ipynb#ch0000007?line=1'>2</a>\u001b[0m getAllProducts(ses,\u001b[39m\"\u001b[39;49m\u001b[39mlaptop-all-laptop\u001b[39;49m\u001b[39m\"\u001b[39;49m)\n",
      "\u001b[1;32md:\\MyGitHub\\DealFinder\\scraper\\ryans.ipynb Cell 7'\u001b[0m in \u001b[0;36mgetAllProducts\u001b[1;34m(ses, category)\u001b[0m\n\u001b[0;32m     <a href='vscode-notebook-cell:/d%3A/MyGitHub/DealFinder/scraper/ryans.ipynb#ch0000006?line=16'>17</a>\u001b[0m temp_item \u001b[39m=\u001b[39m []\n\u001b[0;32m     <a href='vscode-notebook-cell:/d%3A/MyGitHub/DealFinder/scraper/ryans.ipynb#ch0000006?line=17'>18</a>\u001b[0m \u001b[39m# for x in item:\u001b[39;00m\n\u001b[0;32m     <a href='vscode-notebook-cell:/d%3A/MyGitHub/DealFinder/scraper/ryans.ipynb#ch0000006?line=18'>19</a>\u001b[0m \u001b[39m#     if isinstance(x, NavigableString):\u001b[39;00m\n\u001b[0;32m     <a href='vscode-notebook-cell:/d%3A/MyGitHub/DealFinder/scraper/ryans.ipynb#ch0000006?line=19'>20</a>\u001b[0m \u001b[39m#         # print(x)\u001b[39;00m\n\u001b[1;32m   (...)\u001b[0m\n\u001b[0;32m     <a href='vscode-notebook-cell:/d%3A/MyGitHub/DealFinder/scraper/ryans.ipynb#ch0000006?line=28'>29</a>\u001b[0m \u001b[39m# print(item)\u001b[39;00m\n\u001b[0;32m     <a href='vscode-notebook-cell:/d%3A/MyGitHub/DealFinder/scraper/ryans.ipynb#ch0000006?line=29'>30</a>\u001b[0m \u001b[39m# print(type(item))\u001b[39;00m\n\u001b[1;32m---> <a href='vscode-notebook-cell:/d%3A/MyGitHub/DealFinder/scraper/ryans.ipynb#ch0000006?line=30'>31</a>\u001b[0m \u001b[39mfor\u001b[39;00m j \u001b[39min\u001b[39;00m item\u001b[39m.\u001b[39;49mfind_all(\u001b[39m'\u001b[39m\u001b[39ma\u001b[39m\u001b[39m'\u001b[39m):\n\u001b[0;32m     <a href='vscode-notebook-cell:/d%3A/MyGitHub/DealFinder/scraper/ryans.ipynb#ch0000006?line=31'>32</a>\u001b[0m     \u001b[39mtry\u001b[39;00m:\n\u001b[0;32m     <a href='vscode-notebook-cell:/d%3A/MyGitHub/DealFinder/scraper/ryans.ipynb#ch0000006?line=32'>33</a>\u001b[0m         \u001b[39mprint\u001b[39m(j)\n",
      "File \u001b[1;32m~\\AppData\\Local\\Programs\\Python\\Python310\\lib\\site-packages\\bs4\\element.py:963\u001b[0m, in \u001b[0;36mNavigableString.__getattr__\u001b[1;34m(self, attr)\u001b[0m\n\u001b[0;32m    <a href='file:///~/AppData/Local/Programs/Python/Python310/lib/site-packages/bs4/element.py?line=960'>961</a>\u001b[0m     \u001b[39mreturn\u001b[39;00m \u001b[39mself\u001b[39m\n\u001b[0;32m    <a href='file:///~/AppData/Local/Programs/Python/Python310/lib/site-packages/bs4/element.py?line=961'>962</a>\u001b[0m \u001b[39melse\u001b[39;00m:\n\u001b[1;32m--> <a href='file:///~/AppData/Local/Programs/Python/Python310/lib/site-packages/bs4/element.py?line=962'>963</a>\u001b[0m     \u001b[39mraise\u001b[39;00m \u001b[39mAttributeError\u001b[39;00m(\n\u001b[0;32m    <a href='file:///~/AppData/Local/Programs/Python/Python310/lib/site-packages/bs4/element.py?line=963'>964</a>\u001b[0m         \u001b[39m\"\u001b[39m\u001b[39m'\u001b[39m\u001b[39m%s\u001b[39;00m\u001b[39m'\u001b[39m\u001b[39m object has no attribute \u001b[39m\u001b[39m'\u001b[39m\u001b[39m%s\u001b[39;00m\u001b[39m'\u001b[39m\u001b[39m\"\u001b[39m \u001b[39m%\u001b[39m (\n\u001b[0;32m    <a href='file:///~/AppData/Local/Programs/Python/Python310/lib/site-packages/bs4/element.py?line=964'>965</a>\u001b[0m             \u001b[39mself\u001b[39m\u001b[39m.\u001b[39m\u001b[39m__class__\u001b[39m\u001b[39m.\u001b[39m\u001b[39m__name__\u001b[39m, attr))\n",
      "\u001b[1;31mAttributeError\u001b[0m: 'NavigableString' object has no attribute 'find_all'"
     ]
    }
   ],
   "source": [
    "ses = getSession()\n",
    "getAllProducts(ses,\"laptop-all-laptop\")"
   ]
  },
  {
   "cell_type": "code",
   "execution_count": null,
   "metadata": {},
   "outputs": [],
   "source": []
  }
 ],
 "metadata": {
  "interpreter": {
   "hash": "c55751198cc9e601ccad70d6005d6813991fb5d5b6fb5424b318fb1d052f666e"
  },
  "kernelspec": {
   "display_name": "PyCharm (Security)",
   "language": "python",
   "name": "python3"
  },
  "language_info": {
   "codemirror_mode": {
    "name": "ipython",
    "version": 3
   },
   "file_extension": ".py",
   "mimetype": "text/x-python",
   "name": "python",
   "nbconvert_exporter": "python",
   "pygments_lexer": "ipython3",
   "version": "3.10.2"
  },
  "orig_nbformat": 4
 },
 "nbformat": 4,
 "nbformat_minor": 2
}
